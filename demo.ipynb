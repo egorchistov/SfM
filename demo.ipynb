{
  "cells": [
    {
      "cell_type": "markdown",
      "metadata": {
        "id": "view-in-github",
        "colab_type": "text"
      },
      "source": [
        "<a href=\"https://colab.research.google.com/github/egorchistov/SfM/blob/master/demo.ipynb\" target=\"_parent\"><img src=\"https://colab.research.google.com/assets/colab-badge.svg\" alt=\"Open In Colab\"/></a>"
      ]
    },
    {
      "cell_type": "markdown",
      "metadata": {
        "id": "AuFv0P3U0Vqs"
      },
      "source": [
        "# Demo: Scale trajectory predicted by [SfM Learner](https://github.com/ClementPinard/SfmLearner-Pytorch)\n",
        "\n",
        "Download example sequences including KITTI Odometry 09-10 and two sequences from our phones"
      ]
    },
    {
      "cell_type": "code",
      "execution_count": null,
      "metadata": {
        "id": "z4d-aAx_0rAQ"
      },
      "outputs": [],
      "source": [
        "%%shell\n",
        "gdown --fuzzy https://drive.google.com/file/d/14HTQ0-6MVzrQ9MIr9b7Ym5TJMUCsolXw/view?usp=sharing -O odometry.zip\n",
        "unzip odometry.zip > /dev/null"
      ]
    },
    {
      "cell_type": "markdown",
      "metadata": {
        "id": "rff2lX_W5shg"
      },
      "source": [
        "Clone SfM Learner and download pretrained weights"
      ]
    },
    {
      "cell_type": "code",
      "execution_count": null,
      "metadata": {
        "id": "c4Hi2YXXZewT",
        "scrolled": true
      },
      "outputs": [],
      "source": [
        "%%shell\n",
        "git clone https://github.com/ClementPinard/SfmLearner-Pytorch\n",
        "cd SfmLearner-Pytorch\n",
        "pip install -qr requirements.txt\n",
        "mkdir -p pretrained\n",
        "gdown --fuzzy https://drive.google.com/file/d/1o-cKKbq8jGvjaiEKuKWDjEMmI5Y4PN9K/view?usp=sharing -O pretrained/exp_pose_model_best.pth.tar\n",
        "gdown --fuzzy https://drive.google.com/file/d/1SOyTw_XDzirdf-tSz_TV7HjAG4wWB3nr/view?usp=sharing -O pretrained/dispnet_model_best.pth.tar"
      ]
    },
    {
      "cell_type": "markdown",
      "metadata": {
        "id": "fgnLTj7Iv9zN"
      },
      "source": [
        "Clone our repository with helper functions"
      ]
    },
    {
      "cell_type": "code",
      "execution_count": null,
      "metadata": {
        "id": "NJooT8Wfv9zN"
      },
      "outputs": [],
      "source": [
        "%%shell\n",
        "git clone https://github.com/egorchistov/SfM\n",
        "cd SfM\n",
        "pip install -qr requirements.txt"
      ]
    },
    {
      "cell_type": "markdown",
      "metadata": {
        "id": "hZDAr1jzv9zO"
      },
      "source": [
        "Patch dataloader to use .jpg files instead of .png files"
      ]
    },
    {
      "cell_type": "code",
      "execution_count": null,
      "metadata": {
        "id": "qOOtOh0Yv9zP"
      },
      "outputs": [],
      "source": [
        "%%shell\n",
        "cd SfmLearner-Pytorch\n",
        "git apply <<EOF\n",
        "diff --git a/kitti_eval/pose_evaluation_utils.py b/kitti_eval/pose_evaluation_utils.py\n",
        "index 3db48c0..1b31c3d 100644\n",
        "--- a/kitti_eval/pose_evaluation_utils.py\n",
        "+++ b/kitti_eval/pose_evaluation_utils.py\n",
        "@@ -50,11 +50,11 @@ def read_scene_data(data_root, sequence_set, seq_length=3, step=1):\n",
        "     print('getting test metadata for theses sequences : {}'.format(sequences))\n",
        "     for sequence in tqdm(sequences):\n",
        "         poses = np.genfromtxt(data_root/'poses'/'{}.txt'.format(sequence.name)).astype(np.float64).reshape(-1, 3, 4)\n",
        "-        imgs = sorted((sequence/'image_2').files('*.png'))\n",
        "+        imgs = sorted((sequence/'image_2').files('*.jpg'))\n",
        "         # construct 5-snippet sequences\n",
        "         tgt_indices = np.arange(demi_length, len(imgs) - demi_length).reshape(-1, 1)\n",
        "         snippet_indices = shift_range + tgt_indices\n",
        "         im_sequences.append(imgs)\n",
        "         poses_sequences.append(poses)\n",
        "         indices_sequences.append(snippet_indices)\n",
        "-    return im_sequences, poses_sequences, indices_sequences\n",
        "\\ No newline at end of file\n",
        "+    return im_sequences, poses_sequences, indices_sequences\n",
        "EOF"
      ]
    },
    {
      "cell_type": "markdown",
      "source": [
        "Patch run_inference.py to correctly load images"
      ],
      "metadata": {
        "id": "1oYx_m0U7s6i"
      }
    },
    {
      "cell_type": "code",
      "source": [
        "%%shell\n",
        "cd SfmLearner-Pytorch\n",
        "git apply <<EOF\n",
        "diff --git a/run_inference.py b/run_inference.py\n",
        "index 2bf74d1..42f031a 100644\n",
        "--- a/run_inference.py\n",
        "+++ b/run_inference.py\n",
        "@@ -60,6 +60,9 @@ def main():\n",
        "         h,w,_ = img.shape\n",
        "         if (not args.no_resize) and (h != args.img_height or w != args.img_width):\n",
        "             img = resize(img, (args.img_height, args.img_width))\n",
        "+        else:\n",
        "+            img = img / 255\n",
        "+\n",
        "         img = np.transpose(img, (2, 0, 1))\n",
        " \n",
        "         tensor_img = torch.from_numpy(img.astype(np.float32)).unsqueeze(0)\n",
        "EOF"
      ],
      "metadata": {
        "id": "WFQei6947pSB"
      },
      "execution_count": null,
      "outputs": []
    },
    {
      "cell_type": "markdown",
      "metadata": {
        "id": "tnakNtVX6vE0"
      },
      "source": [
        "Predict poses for some sequences here"
      ]
    },
    {
      "cell_type": "code",
      "execution_count": null,
      "metadata": {
        "id": "msEbMIvHZx7h"
      },
      "outputs": [],
      "source": [
        "%%shell\n",
        "cd SfmLearner-Pytorch\n",
        "for sequence in \"kitti_odometry_09\" # \"kitti_odometry_10\" \"phone_1\" \"phone_2\"\n",
        "do\n",
        "    python test_pose.py                                \\\n",
        "        pretrained/exp_pose_model_best.pth.tar         \\\n",
        "        --dataset-dir \"../odometry\"                    \\\n",
        "        --sequences \"$sequence\"                        \\\n",
        "        --output-dir \"../odometry/sequences/$sequence\" \\\n",
        "        --img-width 416                                \\\n",
        "        --img-height 128                               \\\n",
        "        --no-resize\n",
        "done"
      ]
    },
    {
      "cell_type": "markdown",
      "metadata": {
        "id": "bsIBPg9q9cS8"
      },
      "source": [
        "Predict disparity for some sequences here"
      ]
    },
    {
      "cell_type": "code",
      "execution_count": null,
      "metadata": {
        "id": "CeBYnfEkeoMP"
      },
      "outputs": [],
      "source": [
        "%%shell\n",
        "cd SfmLearner-Pytorch\n",
        "for sequence in \"kitti_odometry_09\" # \"kitti_odometry_10\" \"phone_1\" \"phone_2\"\n",
        "do\n",
        "    mkdir -p \"../odometry/sequences/$sequence/disparity\"\n",
        "    python run_inference.py                                      \\\n",
        "        --pretrained pretrained/dispnet_model_best.pth.tar       \\\n",
        "        --dataset-dir \"../odometry/sequences/$sequence/image_2\"  \\\n",
        "        --output-dir \"../odometry/sequences/$sequence/disparity\" \\\n",
        "        --output-disp                                            \\\n",
        "        --img-width 416                                          \\\n",
        "        --img-height 128                                         \\\n",
        "        --no-resize\n",
        "done"
      ]
    },
    {
      "cell_type": "markdown",
      "metadata": {
        "id": "dQFe7sqP3-nA"
      },
      "source": [
        "Find trajectory scale"
      ]
    },
    {
      "cell_type": "code",
      "execution_count": null,
      "metadata": {
        "id": "Lb9Ql2Kzv9zT"
      },
      "outputs": [],
      "source": [
        "%%shell\n",
        "cd SfM\n",
        "for sequence in \"kitti_odometry_09\" # \"kitti_odometry_10\" \"phone_1\" \"phone_2\"\n",
        "do\n",
        "    python scale.py \\\n",
        "        --sequence \"../odometry/sequences/$sequence\"\n",
        "done"
      ]
    },
    {
      "cell_type": "markdown",
      "metadata": {
        "id": "SQKLkdG-v9zU"
      },
      "source": [
        "Prepare trajectories for visualization"
      ]
    },
    {
      "cell_type": "code",
      "execution_count": null,
      "metadata": {
        "id": "X5wztGQAv9zV"
      },
      "outputs": [],
      "source": [
        "%%shell\n",
        "cd SfM\n",
        "for sequence in \"kitti_odometry_09\" # \"kitti_odometry_10\" \"phone_1\" \"phone_2\"\n",
        "do\n",
        "    python visualize.py         \\\n",
        "        --dataset \"../odometry\" \\\n",
        "        --sequence \"$sequence\"\n",
        "done"
      ]
    },
    {
      "cell_type": "markdown",
      "source": [
        "Visualize trajectories"
      ],
      "metadata": {
        "id": "wQWFwZa646rY"
      }
    },
    {
      "cell_type": "code",
      "source": [
        "%%shell\n",
        "pip install -q tornado~=5.1.0"
      ],
      "metadata": {
        "id": "9xfjNQY5JcV9"
      },
      "execution_count": null,
      "outputs": []
    },
    {
      "cell_type": "code",
      "source": [
        "import pandas as pd\n",
        "import plotly.express as px\n",
        "\n",
        "for sequence in [\n",
        "        \"kitti_odometry_09\",\n",
        "#         \"kitti_odometry_10\",\n",
        "#         \"phone_1\",\n",
        "#         \"phone_2\"\n",
        "]:\n",
        "    df = pd.read_csv(f\"odometry/sequences/{sequence}/visualize.csv\")\n",
        "    fig = px.scatter(df, x=\"x\", y=\"y\", z=\"z\", color=\"label\", hover_data=[\"length\", \"frame\"])\n",
        "    fig.update_yaxes(scaleanchor=\"x\", scaleratio=1)\n",
        "    fig.show()"
      ],
      "metadata": {
        "id": "1F1CZWlh3IhY"
      },
      "execution_count": null,
      "outputs": []
    },
    {
      "cell_type": "markdown",
      "metadata": {
        "id": "f1MBOYXKv9zV"
      },
      "source": [
        "To use with your own data\n",
        "* Put .jpg files in `odometry/sequences/my/image_2`\n",
        "* Find camera intrinsics and save them to `odometry/sequences/my/cam.txt`\n",
        "* Save camera height to `odometry/sequences/my/height.txt`\n",
        "* Generate placeholder instead of ground truth poses and place it in `odometry/poses/my.txt`"
      ]
    },
    {
      "cell_type": "code",
      "execution_count": null,
      "metadata": {
        "id": "EhQO8wtZv9zW"
      },
      "outputs": [],
      "source": [
        ""
      ]
    }
  ],
  "metadata": {
    "accelerator": "GPU",
    "colab": {
      "collapsed_sections": [],
      "name": "egorchistov/SfM",
      "provenance": [],
      "include_colab_link": true
    },
    "gpuClass": "standard",
    "kernelspec": {
      "display_name": "Python 3 (ipykernel)",
      "language": "python",
      "name": "python3"
    },
    "language_info": {
      "codemirror_mode": {
        "name": "ipython",
        "version": 3
      },
      "file_extension": ".py",
      "mimetype": "text/x-python",
      "name": "python",
      "nbconvert_exporter": "python",
      "pygments_lexer": "ipython3",
      "version": "3.10.5"
    }
  },
  "nbformat": 4,
  "nbformat_minor": 0
}
